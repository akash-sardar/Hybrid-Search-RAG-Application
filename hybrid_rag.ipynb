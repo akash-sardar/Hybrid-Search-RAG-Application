{
 "cells": [
  {
   "cell_type": "code",
   "execution_count": 1,
   "metadata": {},
   "outputs": [],
   "source": [
    "! pip install --quiet -r requirements.txt"
   ]
  },
  {
   "cell_type": "code",
   "execution_count": 53,
   "metadata": {},
   "outputs": [
    {
     "name": "stdout",
     "output_type": "stream",
     "text": [
      "Is CUDA available:  True\n"
     ]
    }
   ],
   "source": [
    "import os\n",
    "from dotenv import load_dotenv\n",
    "load_dotenv()\n",
    "HF_TOKEN = os.getenv(\"HF_TOKEN\")\n",
    "WEAVIATE_CLUSTER = os.getenv(\"WEAVIATE_CLUSTER\")\n",
    "WEAVIATE_API_KEY = os.getenv(\"WEAVIATE_API_KEY\")\n",
    "\n",
    "# Prepare Vector DB\n",
    "import weaviate\n",
    "from weaviate.classes.init import Auth\n",
    "\n",
    "# Langchain Libraries\n",
    "from langchain.retrievers.weaviate_hybrid_search import WeaviateHybridSearchRetriever\n",
    "from langchain import HuggingFacePipeline\n",
    "from langchain_community.document_loaders import PyPDFLoader\n",
    "from langchain.chains import RetrievalQA\n",
    "from langchain_core.prompts import ChatPromptTemplate\n",
    "from langchain.prompts import PromptTemplate\n",
    "from langchain_core.runnables import RunnableParallel, RunnablePassthrough\n",
    "\n",
    "# torch and transformers framework\n",
    "import torch\n",
    "print(\"Is CUDA available: \", torch.cuda.is_available())\n",
    "from transformers import AutoModelForCausalLM, AutoTokenizer, BitsAndBytesConfig, pipeline"
   ]
  },
  {
   "cell_type": "code",
   "execution_count": 3,
   "metadata": {},
   "outputs": [
    {
     "name": "stderr",
     "output_type": "stream",
     "text": [
      "d:\\Softwares\\Anaconda3\\envs\\llm_env\\Lib\\site-packages\\weaviate\\__init__.py:143: DeprecationWarning: Dep010: Importing AuthApiKey from weaviate is deprecated. Import AuthApiKey from its module: weaviate.auth\n",
      "  _Warnings.root_module_import(name, map_[name])\n",
      "d:\\Softwares\\Anaconda3\\envs\\llm_env\\Lib\\site-packages\\weaviate\\warnings.py:162: DeprecationWarning: Dep016: Python client v3 `weaviate.Client(...)` connections and methods are deprecated. Update\n",
      "            your code to use Python client v4 `weaviate.WeaviateClient` connections and methods.\n",
      "\n",
      "            For Python Client v4 usage, see: https://weaviate.io/developers/weaviate/client-libraries/python\n",
      "            For code migration, see: https://weaviate.io/developers/weaviate/client-libraries/python/v3_v4_migration\n",
      "            \n",
      "  warnings.warn(\n"
     ]
    },
    {
     "name": "stdout",
     "output_type": "stream",
     "text": [
      "Is VectorDB ready:  True\n"
     ]
    }
   ],
   "source": [
    "# Create Weaviate Client to access Cluster\n",
    "client = weaviate.Client(\n",
    "    url = WEAVIATE_CLUSTER,\n",
    "    auth_client_secret= weaviate.AuthApiKey(WEAVIATE_API_KEY),\n",
    "    additional_headers={\n",
    "        \"X-HuggingFace-Api-Key\": HF_TOKEN\n",
    "    },\n",
    ")\n",
    "\n",
    "# Connect to Weaviate Cloud\n",
    "# client = weaviate.connect_to_weaviate_cloud(\n",
    "#     cluster_url=WEAVIATE_CLUSTER,                       # `weaviate_url`: your Weaviate URL\n",
    "#     auth_credentials=Auth.api_key(WEAVIATE_API_KEY),    # `weaviate_key`: your Weaviate API key\n",
    "# )\n",
    "print(\"Is VectorDB ready: \",client.is_ready())"
   ]
  },
  {
   "cell_type": "code",
   "execution_count": 4,
   "metadata": {},
   "outputs": [],
   "source": [
    "# Create the schema\n",
    "schema = client.schema.get()\n",
    "if len(schema[\"classes\"]) ==0:\n",
    "    schema = {\n",
    "        \"classes\":[\n",
    "            {\n",
    "                \"class\": \"RAG\",\n",
    "                \"description\": \"Documents for RAG\",\n",
    "                \"vectorizer\": \"text2vec-huggingface\",\n",
    "                \"moduleConfig\": {\"text2vec-huggingface\":{\"model\":\"sentence-transformers/all-MiniLM-L6-v2\"}},\n",
    "                \"properties\":[\n",
    "                    {\n",
    "                        \"name\": \"content\",                    \n",
    "                        \"dataType\":[\"text\"],\n",
    "                        \"description\": \"The content of the paragraph\",\n",
    "                        \"moduleConfig\":{\n",
    "                            \"text2vec-huggingface\":{\n",
    "                                \"skip\": False,\n",
    "                                \"vectorizerPropertyName\": False,\n",
    "                            }\n",
    "                        },\n",
    "                    }\n",
    "                ]\n",
    "            }\n",
    "        ]\n",
    "    }\n",
    "    client.schema.create(schema)"
   ]
  },
  {
   "cell_type": "code",
   "execution_count": 5,
   "metadata": {},
   "outputs": [
    {
     "data": {
      "text/plain": [
       "{'classes': [{'class': 'RAG',\n",
       "   'description': 'Documents for RAG',\n",
       "   'invertedIndexConfig': {'bm25': {'b': 0.75, 'k1': 1.2},\n",
       "    'cleanupIntervalSeconds': 60,\n",
       "    'stopwords': {'additions': None, 'preset': 'en', 'removals': None}},\n",
       "   'moduleConfig': {'text2vec-huggingface': {'model': 'sentence-transformers/all-MiniLM-L6-v2',\n",
       "     'vectorizeClassName': True}},\n",
       "   'multiTenancyConfig': {'autoTenantActivation': False,\n",
       "    'autoTenantCreation': False,\n",
       "    'enabled': False},\n",
       "   'properties': [{'dataType': ['text'],\n",
       "     'description': 'The content of the paragraph',\n",
       "     'indexFilterable': True,\n",
       "     'indexSearchable': True,\n",
       "     'moduleConfig': {'text2vec-huggingface': {'skip': False,\n",
       "       'vectorizePropertyName': False,\n",
       "       'vectorizerPropertyName': False}},\n",
       "     'name': 'content',\n",
       "     'tokenization': 'word'}],\n",
       "   'replicationConfig': {'factor': 1},\n",
       "   'shardingConfig': {'actualCount': 1,\n",
       "    'actualVirtualCount': 128,\n",
       "    'desiredCount': 1,\n",
       "    'desiredVirtualCount': 128,\n",
       "    'function': 'murmur3',\n",
       "    'key': '_id',\n",
       "    'strategy': 'hash',\n",
       "    'virtualPerPhysical': 128},\n",
       "   'vectorIndexConfig': {'bq': {'enabled': False},\n",
       "    'cleanupIntervalSeconds': 300,\n",
       "    'distance': 'cosine',\n",
       "    'dynamicEfFactor': 8,\n",
       "    'dynamicEfMax': 500,\n",
       "    'dynamicEfMin': 100,\n",
       "    'ef': -1,\n",
       "    'efConstruction': 128,\n",
       "    'flatSearchCutoff': 40000,\n",
       "    'maxConnections': 64,\n",
       "    'pq': {'bitCompression': False,\n",
       "     'centroids': 256,\n",
       "     'enabled': False,\n",
       "     'encoder': {'distribution': 'log-normal', 'type': 'kmeans'},\n",
       "     'segments': 0,\n",
       "     'trainingLimit': 100000},\n",
       "    'skip': False,\n",
       "    'vectorCacheMaxObjects': 1000000000000},\n",
       "   'vectorIndexType': 'hnsw',\n",
       "   'vectorizer': 'text2vec-huggingface'}]}"
      ]
     },
     "execution_count": 5,
     "metadata": {},
     "output_type": "execute_result"
    }
   ],
   "source": [
    "client.schema.get()"
   ]
  },
  {
   "cell_type": "code",
   "execution_count": 6,
   "metadata": {},
   "outputs": [],
   "source": [
    "retriever = WeaviateHybridSearchRetriever(\n",
    "    alpha = 0.5,\n",
    "    client = client,\n",
    "    index_name = \"RAG\",\n",
    "    text_key = \"content\",\n",
    "    attributes = [],\n",
    "    create_schema_if_missing = True\n",
    ")"
   ]
  },
  {
   "cell_type": "code",
   "execution_count": 7,
   "metadata": {},
   "outputs": [],
   "source": [
    "# Function to load 4-bit quantized model and create tokenizer\n",
    "model_name = \"HuggingFaceH4/zephyr-7b-beta\"\n",
    "def load_quantized_model(model_name: str):\n",
    "    '''\n",
    "    model_name: Name or Path of Model to be loaded.\n",
    "    Return: Loaded Quantized Model\n",
    "    '''\n",
    "    bnb_config = BitsAndBytesConfig(\n",
    "        load_in_4bit= True,\n",
    "        bnb_4bit_use_double_quant= True,\n",
    "        bnb_4bit_quant_type=\"nf4\",\n",
    "        bnb_4bit_compute_dtype=torch.bfloat16,\n",
    "        low_cpu_mem_usage = True\n",
    "    )\n",
    "    model = AutoModelForCausalLM.from_pretrained(\n",
    "        model_name,\n",
    "        torch_dtype = torch.bfloat16,\n",
    "        quantization_config = bnb_config,\n",
    "        device_map = \"cuda\"\n",
    "    )\n",
    "    return model\n",
    "\n"
   ]
  },
  {
   "cell_type": "code",
   "execution_count": 8,
   "metadata": {},
   "outputs": [],
   "source": [
    "# Initialize Tokenizer\n",
    "def initialize_tokenizer(model_name: str):\n",
    "    '''\n",
    "    model_name: Name or Path of the model for tokenizer initialization.\n",
    "    return: Initialized tokenizer.\n",
    "    '''\n",
    "    tokenizer = AutoTokenizer.from_pretrained(model_name, return_token_type_ids = False)\n",
    "    tokenizer.bos_token_id = 1 # Set Begining of Sentence Token Id\n",
    "    return tokenizer\n"
   ]
  },
  {
   "cell_type": "code",
   "execution_count": 9,
   "metadata": {},
   "outputs": [
    {
     "name": "stderr",
     "output_type": "stream",
     "text": [
      "Unused kwargs: ['low_cpu_mem_usage']. These kwargs are not used in <class 'transformers.utils.quantization_config.BitsAndBytesConfig'>.\n"
     ]
    },
    {
     "data": {
      "application/vnd.jupyter.widget-view+json": {
       "model_id": "56d99afb9919459d9922671fd081c4d1",
       "version_major": 2,
       "version_minor": 0
      },
      "text/plain": [
       "Loading checkpoint shards:   0%|          | 0/8 [00:00<?, ?it/s]"
      ]
     },
     "metadata": {},
     "output_type": "display_data"
    }
   ],
   "source": [
    "# Load the Tokenizer and the model\n",
    "model_name = \"HuggingFaceH4/zephyr-7b-beta\"\n",
    "tokenizer = initialize_tokenizer(model_name)\n",
    "model = load_quantized_model(model_name)"
   ]
  },
  {
   "cell_type": "code",
   "execution_count": 10,
   "metadata": {},
   "outputs": [],
   "source": [
    "# Create the Hugging Pipeline\n",
    "pipeline = pipeline(\n",
    "    task=\"text-generation\",\n",
    "    model=model,\n",
    "    tokenizer=tokenizer,\n",
    "    use_cache = True,\n",
    "    device_map = \"cuda\",\n",
    "    do_sample = True,\n",
    "    top_k = 5,\n",
    "    max_new_tokens = 100,\n",
    "    num_return_sequences = 1,\n",
    "    eos_token_id = tokenizer.eos_token_id,\n",
    "    pad_token_id = tokenizer.pad_token_id\n",
    ")"
   ]
  },
  {
   "cell_type": "code",
   "execution_count": 11,
   "metadata": {},
   "outputs": [
    {
     "name": "stderr",
     "output_type": "stream",
     "text": [
      "d:\\Softwares\\Anaconda3\\envs\\llm_env\\Lib\\site-packages\\langchain_core\\_api\\deprecation.py:141: LangChainDeprecationWarning: The class `HuggingFacePipeline` was deprecated in LangChain 0.0.37 and will be removed in 0.3. An updated version of the class exists in the langchain-huggingface package and should be used instead. To use it run `pip install -U langchain-huggingface` and import as `from langchain_huggingface import HuggingFacePipeline`.\n",
      "  warn_deprecated(\n"
     ]
    }
   ],
   "source": [
    "# Create LLM wrapper\n",
    "llm = HuggingFacePipeline(pipeline = pipeline)"
   ]
  },
  {
   "cell_type": "code",
   "execution_count": 17,
   "metadata": {},
   "outputs": [
    {
     "name": "stderr",
     "output_type": "stream",
     "text": [
      "d:\\Softwares\\Anaconda3\\envs\\llm_env\\Lib\\site-packages\\pypdf\\_crypt_providers\\_cryptography.py:32: CryptographyDeprecationWarning: ARC4 has been moved to cryptography.hazmat.decrepit.ciphers.algorithms.ARC4 and will be removed from this module in 48.0.0.\n",
      "  from cryptography.hazmat.primitives.ciphers.algorithms import AES, ARC4\n"
     ]
    },
    {
     "data": {
      "text/plain": [
       "[Document(metadata={'source': 'document\\\\LifeInsuranceAndAnnuities-2.pdf', 'page': 0}, page_content='CALIFORNIA\\nLIFE \\nINSURANCE\\nand\\nANNUITIES\\n800-927-HELP (4357)\\nwww.insurance.ca.gov\\nTDD  800.482.4833\\nDEPARTMENT \\nOF INSURANCE\\nCALIFORNIA DEP ARTMENT OF INSURANCE\\nConsumer Education and Outreach Bureau\\n300 South Spring Street, South Tower\\nLos Angeles, CA  90013\\nMaterials presented in this borchure are a collective effort of the staff of the \\nCalifornia Department of Insurance.\\n'),\n",
       " Document(metadata={'source': 'document\\\\LifeInsuranceAndAnnuities-2.pdf', 'page': 1}, page_content='Life Insurance and Annuities  \\x18Table of Contents\\nLife Insurance and \\nAnnuities\\n  \\nIntroduction to Life Insurance and Annuities  .  .  .  .  .  .  .  .  .  .  .  .  .  .  . 2\\nDefining Your Needs   .  .  .  .  .  .  .  .  .  .  .  .  .  .  .  .  .  .  .  .  .  .  .  .  .  .  .  .  .  .  .  .  .  .  .  .  .  . 3\\nLife Insurance   .  .  .  .  .  .  .  .  .  .  .  .  .  .  .  .  .  .  .  .  .  .  .  .  .  .  .  .  .  .  .  .  .  .  .  .  .  .  .  .  .  .  .  .4\\nChoosing the Amount of Life Insurance   .  .  .  .  .  .  .  .  .  .  .  .  .  .  .  .  .  .  . 4\\nSteps to Determine How Much \\nLife Insurance You Need  .  .  .  .  .  .  .  .  .  .  .  .  .  .  .  .  .  .  .  .  .  .  .  .  .  .  .  .  .  .  .  .  .  .  . 4\\nChoosing the Appropriate Type of Life Insurance   .  .  .  .  .  .  .  .  .  . 5\\nImportant Facts If You Are Considering Changes  \\nTo Your Life Insurance Policy   .  .  .  .  .  .  .  .  .  .  .  .  .  .  .  .  .  .  .  .  .  .  .  .  .  .  .  .  .\\x180\\nAnnuities  .  .  .  .  .  .  .  .  .  .  .  .  .  .  .  .  .  .  .  .  .  .  .  .  .  .  .  .  .  .  .  .  .  .  .  .  .  .  .  .  .  .  .  .  .  .  .  .  .  .\\x183\\nDeferred Annuities  .  .  .  .  .  .  .  .  .  .  .  .  .  .  .  .  .  .  .  .  .  .  .  .  .  .  .  .  .  .  .  .  .  .  .  .  .  .  \\x184\\nChoosing the Type of Deferred Annuity  .  .  .  .  .  .  .  .  .  .  .  .  .  .  .  .  .  .  .\\x184\\nFinding a Good Buy  .  .  .  .  .  .  .  .  .  .  .  .  .  .  .  .  .  .  .  .  .  .  .  .  .  .  .  .  .  .  .  .  .  .  .  .  .  .\\x186\\nOther Useful Information   .  .  .  .  .  .  .  .  .  .  .  .  .  .  .  .  .  .  .  .  .  .  .  .  .  .  .\\x187\\nSuitability   .  .  .  .  .  .  .  .  .  .  .  .  .  .  .  .  .  .  .  .  .  .  .  .  .  .  .  .  .  .  .  .  .  .  .  .  .  .  .  .  .  .  .  .  .  .  .\\x187\\nAgents   .  .  .  .  .  .  .  .  .  .  .  .  .  .  .  .  .  .  .  .  .  .  .  .  .  .  .  .  .  .  .  .  .  .  .  .  .  .  .  .  .  .  .  .  .  .  .  .  .  .\\x187\\nReliability and Stability of Companies   .  .  .  .  .  .  .  .  .  .  .  .  .  .  .  .  .  .  .  .\\x188 \\nInformation Sources   .  .  .  .  .  .  .  .  .  .  .  .  .  .  .  .  .  .  .  .  .  .  .  .  .  .  .  .  .  .  .  .  .  .  .  .  .\\x188\\nThe California Insurance Code and\\nCode of Regulations   .  .  .  .  .  .  .  .  .  .  .  .  .  .  .  .  .  .  .  .  .  .  .  .  .  .  .  .  .  .  .  .  .  .  .  .  .\\x189\\nBeware of Any Agent Who…   .  .  .  .  .  .  .  .  .  .  .  .  .  .  .  .  .  .  .  .  .  .  .  .  .  .  .  .  .20\\nShopping Tips   .  .  .  .  .  .  .  .  .  .  .  .  .  .  .  .  .  .  .  .  .  .  .  .  .  .  .  .  .  .  .  .  .  .  .  .  .  .  .  .  .  .  .2\\x18\\nGlossary of Terms   .  .  .  .  .  .  .  .  .  .  .  .  .  .  .  .  .  .  .  .  .  .  .  .  .  .  .  .  .  .  .  .  .  .  .  .  .  .  .  .23'),\n",
       " Document(metadata={'source': 'document\\\\LifeInsuranceAndAnnuities-2.pdf', 'page': 2}, page_content='2 State of California Department of InsuranceIntroduction\\nIf you are planning to purchase a life insurance policy or \\nan annuity contract, you should first consider your needs \\nand understand the different type of insurance products \\nthat are available  .  Many more consumers are using life and \\nannuity products as part of their financial planning goals  .  \\nConsumers spend substantial sums of money each year on \\nlife insurance policies or annuity contracts knowing very little about what it is that they are getting  .  This guide was \\ndeveloped to help consumers make educated decisions and \\nto help them understand both the benefits and the risks involved in financial planning  .\\nThe purpose of this information guide is to help you \\nunderstand what type of life insurance policies or annuity contracts are available  .  If one type of policy or contract \\ndoes not fit your needs, then ask and find out about \\nother available policies or contracts, many of which are described in this information guide  .  You can research more \\ninformation on life insurance policies or annuity contracts by \\nchecking with a licensed life insurance agent or a licensed life insurance company  .  You can also visit your public library\\n \\nfor material or books on financial planning  .  Life insurance \\nor annuity information is also available on the Internet  .   \\nIn addition, The California Department of Insurance (CDI) \\nhas a toll-free Hotline telephone number and website that \\ncan provide further information and assistance on life insurance policies and annuity contracts  .  Please see the \\nmany ways to contact the CDI on the last page of this information guide  .  This information guide is divided \\n \\ninto two sections:  Life Insurance and  Annuities  .  ')]"
      ]
     },
     "execution_count": 17,
     "metadata": {},
     "output_type": "execute_result"
    }
   ],
   "source": [
    "# Get Document\n",
    "doc_path = os.path.join(\"document\",\"LifeInsuranceAndAnnuities-2.pdf\")\n",
    "loader = PyPDFLoader(doc_path)\n",
    "docs = loader.load()\n",
    "docs[:3]"
   ]
  },
  {
   "cell_type": "code",
   "execution_count": 23,
   "metadata": {},
   "outputs": [
    {
     "name": "stdout",
     "output_type": "stream",
     "text": [
      "24 State of California Department of InsuranceFace Amount  — The amount to be paid to the beneficiary \n",
      "when the insured dies  .  It will be reduced by any unpaid \n",
      "policy loans and interest on those loans, and may be \n",
      "increased by any dividends  .\n",
      "Free Look  — The right of the policyowner to have a period \n",
      "of ten or more days to examine an insurance policy and, if \n",
      "not satisfied, return it to the company for a full refund of all amounts paid  .\n",
      "Grace Period  — A period of time (usually 3\u0018 days) after the \n",
      "premium due date when an overdue premium may be paid without penalty  .  The policy remains in force throughout the \n",
      "period  .\n",
      "Guaranteed Insurability  — An option that permits the \n",
      "policyholder to buy additional stated amounts of life \n",
      "insurance at certain times in the future, without having to provide new evidence of insurability  .\n",
      "Illustration  — A document used in life insurance sales \n",
      "presentations showing year-by-year numbers indicating how a policy will work  .  Usually it assumes that amounts being \n",
      "paid today will continue in all future years  .\n",
      "Insured  — The person whose life is covered by a life \n",
      "insurance policy; the policyowner; the policyholder  .\n",
      "Lapse  — The discontinuation of insurance without cash \n",
      "value when the required premium is not paid  .  If cash value \n",
      "exists, there may be nonforfeiture provisions available  .\n",
      "Loan Value  — The amount which can be borrowed by the \n",
      "policyowner from the company using the value of the policy as collateral  .  Usually the interest rate payable on the loan \n",
      "varies based on an index defined in the policy  .\n"
     ]
    }
   ],
   "source": [
    "# Load the documents into Weaviate Vector DB\n",
    "retriever.add_documents(docs)\n",
    "# check a search\n",
    "print(retriever.invoke(\"What is a period certain\")[1].page_content)"
   ]
  },
  {
   "cell_type": "code",
   "execution_count": 86,
   "metadata": {},
   "outputs": [],
   "source": [
    "# Create prompt\n",
    "system_prompt = (\n",
    "    '''\n",
    "Use the below Context to answer the question in a consice and easy way. If you do not know the answer say that not enough Context have been provided.\n",
    "Always follow up the answer with a question to the user if he has any other questions to ask.\n",
    "Context: {context}\n",
    "Answer:\n",
    "'''\n",
    ")\n",
    "prompt = ChatPromptTemplate.from_messages(\n",
    "    [\n",
    "        (\"system\", system_prompt),\n",
    "        (\"human\", \"{query}\")\n",
    "    ]\n",
    ")\n",
    "template = '''\n",
    "Use the below Context to answer the question in a consice and easy way. If you do not know the answer say that not enough Context have been provided.\n",
    "Always follow up the answer with a question to the user if he has any other questions to ask. Do not show the comtext in the answer.\n",
    "Context: {context}\n",
    "Question: {query}\n",
    "Helpful Answer: \n",
    "'''\n",
    "prompt = PromptTemplate.from_template(template)\n"
   ]
  },
  {
   "cell_type": "code",
   "execution_count": 87,
   "metadata": {},
   "outputs": [],
   "source": [
    "# Create the Retrieval Chain with stuff_documents\n",
    "hybrid_chain = RetrievalQA.from_chain_type(llm = llm, chain_type=\"stuff\", retriever = retriever)"
   ]
  },
  {
   "cell_type": "code",
   "execution_count": 88,
   "metadata": {},
   "outputs": [],
   "source": [
    "# Test the chain\n",
    "\n",
    "results = hybrid_chain.invoke(\"what is period certain annuity\")\n",
    "answer = results[\"result\"][results[\"result\"].find(\"Question:\"):]"
   ]
  },
  {
   "cell_type": "code",
   "execution_count": 89,
   "metadata": {},
   "outputs": [
    {
     "name": "stdout",
     "output_type": "stream",
     "text": [
      "Question: what is period certain annuity\n",
      "Helpful Answer: A Period Certain Annuity is a type of annuity that provides the annuitant with an income stream for a specific period of time, such as 5, 10, or 20 years, regardless of whether the annuitant lives or dies during that time. This type of annuity guarantees that the annuity payments will continue to be made to the annuitant or their beneficiary for the entire period, providing financial security and peace of mind. After the\n"
     ]
    }
   ],
   "source": [
    "print(answer)"
   ]
  },
  {
   "cell_type": "code",
   "execution_count": 90,
   "metadata": {},
   "outputs": [
    {
     "name": "stdout",
     "output_type": "stream",
     "text": [
      "\n",
      "Use the below Context to answer the question in a consice and easy way. If you do not know the answer say that not enough Context have been provided.\n",
      "Always follow up the answer with a question to the user if he has any other questions to ask. Do not show the comtext in the answer.\n",
      "Context: [Document(page_content='Annuities \\n \\nWhile life insurance proceeds are paid at the time of \\ndeath of the insured, the proceeds of an annuity can \\nprovide you with an income for as long as you live  .  \\nThere are two types of annuities:  \\n \\n• The first is when you pay a lump sum to a life  \\ninsurance company, and they pay it out to you  \\nright away in periodic installments  .  This type is  \\nknown as an immediate annuity — the payments  \\nto you start immediately  . \\n \\n• The second, and more common, is where money paid  \\nby you accumulates with interest over a period of time  .   \\nIf you choose, the accumulated amounts will then be paid \\nout to you in periodic installments, usually when you retire, in order to supplement your retirement income  .  \\nThis type is known as a deferred annuity — the payments to you are deferred for a number of years  .  Currently, a \\ndeferred annuity may have tax advantages, in that the \\ninterest credited to your funds is deferred from current taxation .  That is to say, income tax is not owed until \\n \\nyou start receiving distributions from the annuity  .\\nBoth types of annuities offer you certain options for receiving your income  .  It is usually paid to you monthly  .  \\nThe most common options are:  \\n \\nLife Annuity  — The company will pay you an income for \\nas long as you live  . \\nPeriod Certain Annuity  — The company will pay you an \\nincome for a specified amount of time (5 years, \\x180 years, \\n20 years, etc  .) . \\nLife Annuity with Period Certain  — The company will \\nLife Insurance and Annuities  \\x183'), Document(page_content='Annuities \\n \\nWhile life insurance proceeds are paid at the time of \\ndeath of the insured, the proceeds of an annuity can \\nprovide you with an income for as long as you live  .  \\nThere are two types of annuities:  \\n \\n• The first is when you pay a lump sum to a life  \\ninsurance company, and they pay it out to you  \\nright away in periodic installments  .  This type is  \\nknown as an immediate annuity — the payments  \\nto you start immediately  . \\n \\n• The second, and more common, is where money paid  \\nby you accumulates with interest over a period of time  .   \\nIf you choose, the accumulated amounts will then be paid \\nout to you in periodic installments, usually when you retire, in order to supplement your retirement income  .  \\nThis type is known as a deferred annuity — the payments to you are deferred for a number of years  .  Currently, a \\ndeferred annuity may have tax advantages, in that the \\ninterest credited to your funds is deferred from current taxation .  That is to say, income tax is not owed until \\n \\nyou start receiving distributions from the annuity  .\\nBoth types of annuities offer you certain options for receiving your income  .  It is usually paid to you monthly  .  \\nThe most common options are:  \\n \\nLife Annuity  — The company will pay you an income for \\nas long as you live  . \\nPeriod Certain Annuity  — The company will pay you an \\nincome for a specified amount of time (5 years, \\x180 years, \\n20 years, etc  .) . \\nLife Annuity with Period Certain  — The company will \\nLife Insurance and Annuities  \\x183'), Document(page_content='Annuities \\n \\nWhile life insurance proceeds are paid at the time of \\ndeath of the insured, the proceeds of an annuity can \\nprovide you with an income for as long as you live  .  \\nThere are two types of annuities:  \\n \\n• The first is when you pay a lump sum to a life  \\ninsurance company, and they pay it out to you  \\nright away in periodic installments  .  This type is  \\nknown as an immediate annuity — the payments  \\nto you start immediately  . \\n \\n• The second, and more common, is where money paid  \\nby you accumulates with interest over a period of time  .   \\nIf you choose, the accumulated amounts will then be paid \\nout to you in periodic installments, usually when you retire, in order to supplement your retirement income  .  \\nThis type is known as a deferred annuity — the payments to you are deferred for a number of years  .  Currently, a \\ndeferred annuity may have tax advantages, in that the \\ninterest credited to your funds is deferred from current taxation .  That is to say, income tax is not owed until \\n \\nyou start receiving distributions from the annuity  .\\nBoth types of annuities offer you certain options for receiving your income  .  It is usually paid to you monthly  .  \\nThe most common options are:  \\n \\nLife Annuity  — The company will pay you an income for \\nas long as you live  . \\nPeriod Certain Annuity  — The company will pay you an \\nincome for a specified amount of time (5 years, \\x180 years, \\n20 years, etc  .) . \\nLife Annuity with Period Certain  — The company will \\nLife Insurance and Annuities  \\x183'), Document(page_content='Annuities \\n \\nWhile life insurance proceeds are paid at the time of \\ndeath of the insured, the proceeds of an annuity can \\nprovide you with an income for as long as you live  .  \\nThere are two types of annuities:  \\n \\n• The first is when you pay a lump sum to a life  \\ninsurance company, and they pay it out to you  \\nright away in periodic installments  .  This type is  \\nknown as an immediate annuity — the payments  \\nto you start immediately  . \\n \\n• The second, and more common, is where money paid  \\nby you accumulates with interest over a period of time  .   \\nIf you choose, the accumulated amounts will then be paid \\nout to you in periodic installments, usually when you retire, in order to supplement your retirement income  .  \\nThis type is known as a deferred annuity — the payments to you are deferred for a number of years  .  Currently, a \\ndeferred annuity may have tax advantages, in that the \\ninterest credited to your funds is deferred from current taxation .  That is to say, income tax is not owed until \\n \\nyou start receiving distributions from the annuity  .\\nBoth types of annuities offer you certain options for receiving your income  .  It is usually paid to you monthly  .  \\nThe most common options are:  \\n \\nLife Annuity  — The company will pay you an income for \\nas long as you live  . \\nPeriod Certain Annuity  — The company will pay you an \\nincome for a specified amount of time (5 years, \\x180 years, \\n20 years, etc  .) . \\nLife Annuity with Period Certain  — The company will \\nLife Insurance and Annuities  \\x183')]\n",
      "Question: What is Period Certain Annuity ?\n",
      "Helpful Answer: \n",
      "\n",
      "The Period Certain Annuity is a type of annuity where the insurance company guarantees payments to you for a specified period of time, typically 5, 10, or 15 years, regardless of whether you live or die during that time. This can provide you with a set income for a set period, which can be helpful in situations where you may need a guaranteed amount of income for a specific period, such as during your retirement years or while you're waiting for\n"
     ]
    }
   ],
   "source": [
    "# Setup the RAG Chain\n",
    "rag_chain = (\n",
    "    {\"context\": retriever, \"query\": RunnablePassthrough()} | prompt | llm\n",
    ")\n",
    "\n",
    "query = \"What is Period Certain Annuity ?\"\n",
    "response = rag_chain.invoke(query)\n",
    "print(response)"
   ]
  }
 ],
 "metadata": {
  "kernelspec": {
   "display_name": "llm_env",
   "language": "python",
   "name": "python3"
  },
  "language_info": {
   "codemirror_mode": {
    "name": "ipython",
    "version": 3
   },
   "file_extension": ".py",
   "mimetype": "text/x-python",
   "name": "python",
   "nbconvert_exporter": "python",
   "pygments_lexer": "ipython3",
   "version": "3.11.9"
  }
 },
 "nbformat": 4,
 "nbformat_minor": 2
}
